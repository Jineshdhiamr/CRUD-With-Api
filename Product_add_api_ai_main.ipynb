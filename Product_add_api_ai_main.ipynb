{
  "cells": [
    {
      "cell_type": "markdown",
      "metadata": {
        "id": "view-in-github",
        "colab_type": "text"
      },
      "source": [
        "<a href=\"https://colab.research.google.com/github/Jineshdhiamr/CRUD-With-Api/blob/main/Product_add_api_ai_main.ipynb\" target=\"_parent\"><img src=\"https://colab.research.google.com/assets/colab-badge.svg\" alt=\"Open In Colab\"/></a>"
      ]
    },
    {
      "cell_type": "code",
      "execution_count": 32,
      "metadata": {
        "colab": {
          "base_uri": "https://localhost:8080/"
        },
        "id": "NyeRmIIlPeh7",
        "outputId": "a5d533ed-d7cf-4fcf-b01e-b0d8196bf386"
      },
      "outputs": [
        {
          "output_type": "stream",
          "name": "stdout",
          "text": [
            "Authtoken saved to configuration file: /root/.config/ngrok/ngrok.yml\n"
          ]
        }
      ],
      "source": [
        "!ngrok authtoken 2qys9u2O4567FcyZbhnTfXkyDAr_3C1HZPhs7iE2v7RyCbokM\n"
      ]
    },
    {
      "cell_type": "code",
      "source": [
        "!pip install flask ngrok pyngrok spacy\n",
        "!python -m spacy download en_core_web_sm\n"
      ],
      "metadata": {
        "colab": {
          "base_uri": "https://localhost:8080/"
        },
        "id": "QfdFwRjY2yaA",
        "outputId": "81e40905-932c-4c4f-8554-a69e39f22e1a"
      },
      "execution_count": 33,
      "outputs": [
        {
          "output_type": "stream",
          "name": "stdout",
          "text": [
            "Requirement already satisfied: flask in /usr/local/lib/python3.11/dist-packages (3.1.0)\n",
            "Requirement already satisfied: ngrok in /usr/local/lib/python3.11/dist-packages (1.4.0)\n",
            "Requirement already satisfied: pyngrok in /usr/local/lib/python3.11/dist-packages (7.2.4)\n",
            "Requirement already satisfied: spacy in /usr/local/lib/python3.11/dist-packages (3.8.5)\n",
            "Requirement already satisfied: Werkzeug>=3.1 in /usr/local/lib/python3.11/dist-packages (from flask) (3.1.3)\n",
            "Requirement already satisfied: Jinja2>=3.1.2 in /usr/local/lib/python3.11/dist-packages (from flask) (3.1.6)\n",
            "Requirement already satisfied: itsdangerous>=2.2 in /usr/local/lib/python3.11/dist-packages (from flask) (2.2.0)\n",
            "Requirement already satisfied: click>=8.1.3 in /usr/local/lib/python3.11/dist-packages (from flask) (8.1.8)\n",
            "Requirement already satisfied: blinker>=1.9 in /usr/local/lib/python3.11/dist-packages (from flask) (1.9.0)\n",
            "Requirement already satisfied: PyYAML>=5.1 in /usr/local/lib/python3.11/dist-packages (from pyngrok) (6.0.2)\n",
            "Requirement already satisfied: spacy-legacy<3.1.0,>=3.0.11 in /usr/local/lib/python3.11/dist-packages (from spacy) (3.0.12)\n",
            "Requirement already satisfied: spacy-loggers<2.0.0,>=1.0.0 in /usr/local/lib/python3.11/dist-packages (from spacy) (1.0.5)\n",
            "Requirement already satisfied: murmurhash<1.1.0,>=0.28.0 in /usr/local/lib/python3.11/dist-packages (from spacy) (1.0.12)\n",
            "Requirement already satisfied: cymem<2.1.0,>=2.0.2 in /usr/local/lib/python3.11/dist-packages (from spacy) (2.0.11)\n",
            "Requirement already satisfied: preshed<3.1.0,>=3.0.2 in /usr/local/lib/python3.11/dist-packages (from spacy) (3.0.9)\n",
            "Requirement already satisfied: thinc<8.4.0,>=8.3.4 in /usr/local/lib/python3.11/dist-packages (from spacy) (8.3.6)\n",
            "Requirement already satisfied: wasabi<1.2.0,>=0.9.1 in /usr/local/lib/python3.11/dist-packages (from spacy) (1.1.3)\n",
            "Requirement already satisfied: srsly<3.0.0,>=2.4.3 in /usr/local/lib/python3.11/dist-packages (from spacy) (2.5.1)\n",
            "Requirement already satisfied: catalogue<2.1.0,>=2.0.6 in /usr/local/lib/python3.11/dist-packages (from spacy) (2.0.10)\n",
            "Requirement already satisfied: weasel<0.5.0,>=0.1.0 in /usr/local/lib/python3.11/dist-packages (from spacy) (0.4.1)\n",
            "Requirement already satisfied: typer<1.0.0,>=0.3.0 in /usr/local/lib/python3.11/dist-packages (from spacy) (0.15.2)\n",
            "Requirement already satisfied: tqdm<5.0.0,>=4.38.0 in /usr/local/lib/python3.11/dist-packages (from spacy) (4.67.1)\n",
            "Requirement already satisfied: numpy>=1.19.0 in /usr/local/lib/python3.11/dist-packages (from spacy) (2.0.2)\n",
            "Requirement already satisfied: requests<3.0.0,>=2.13.0 in /usr/local/lib/python3.11/dist-packages (from spacy) (2.32.3)\n",
            "Requirement already satisfied: pydantic!=1.8,!=1.8.1,<3.0.0,>=1.7.4 in /usr/local/lib/python3.11/dist-packages (from spacy) (2.11.3)\n",
            "Requirement already satisfied: setuptools in /usr/local/lib/python3.11/dist-packages (from spacy) (75.2.0)\n",
            "Requirement already satisfied: packaging>=20.0 in /usr/local/lib/python3.11/dist-packages (from spacy) (24.2)\n",
            "Requirement already satisfied: langcodes<4.0.0,>=3.2.0 in /usr/local/lib/python3.11/dist-packages (from spacy) (3.5.0)\n",
            "Requirement already satisfied: MarkupSafe>=2.0 in /usr/local/lib/python3.11/dist-packages (from Jinja2>=3.1.2->flask) (3.0.2)\n",
            "Requirement already satisfied: language-data>=1.2 in /usr/local/lib/python3.11/dist-packages (from langcodes<4.0.0,>=3.2.0->spacy) (1.3.0)\n",
            "Requirement already satisfied: annotated-types>=0.6.0 in /usr/local/lib/python3.11/dist-packages (from pydantic!=1.8,!=1.8.1,<3.0.0,>=1.7.4->spacy) (0.7.0)\n",
            "Requirement already satisfied: pydantic-core==2.33.1 in /usr/local/lib/python3.11/dist-packages (from pydantic!=1.8,!=1.8.1,<3.0.0,>=1.7.4->spacy) (2.33.1)\n",
            "Requirement already satisfied: typing-extensions>=4.12.2 in /usr/local/lib/python3.11/dist-packages (from pydantic!=1.8,!=1.8.1,<3.0.0,>=1.7.4->spacy) (4.13.1)\n",
            "Requirement already satisfied: typing-inspection>=0.4.0 in /usr/local/lib/python3.11/dist-packages (from pydantic!=1.8,!=1.8.1,<3.0.0,>=1.7.4->spacy) (0.4.0)\n",
            "Requirement already satisfied: charset-normalizer<4,>=2 in /usr/local/lib/python3.11/dist-packages (from requests<3.0.0,>=2.13.0->spacy) (3.4.1)\n",
            "Requirement already satisfied: idna<4,>=2.5 in /usr/local/lib/python3.11/dist-packages (from requests<3.0.0,>=2.13.0->spacy) (3.10)\n",
            "Requirement already satisfied: urllib3<3,>=1.21.1 in /usr/local/lib/python3.11/dist-packages (from requests<3.0.0,>=2.13.0->spacy) (2.3.0)\n",
            "Requirement already satisfied: certifi>=2017.4.17 in /usr/local/lib/python3.11/dist-packages (from requests<3.0.0,>=2.13.0->spacy) (2025.1.31)\n",
            "Requirement already satisfied: blis<1.4.0,>=1.3.0 in /usr/local/lib/python3.11/dist-packages (from thinc<8.4.0,>=8.3.4->spacy) (1.3.0)\n",
            "Requirement already satisfied: confection<1.0.0,>=0.0.1 in /usr/local/lib/python3.11/dist-packages (from thinc<8.4.0,>=8.3.4->spacy) (0.1.5)\n",
            "Requirement already satisfied: shellingham>=1.3.0 in /usr/local/lib/python3.11/dist-packages (from typer<1.0.0,>=0.3.0->spacy) (1.5.4)\n",
            "Requirement already satisfied: rich>=10.11.0 in /usr/local/lib/python3.11/dist-packages (from typer<1.0.0,>=0.3.0->spacy) (13.9.4)\n",
            "Requirement already satisfied: cloudpathlib<1.0.0,>=0.7.0 in /usr/local/lib/python3.11/dist-packages (from weasel<0.5.0,>=0.1.0->spacy) (0.21.0)\n",
            "Requirement already satisfied: smart-open<8.0.0,>=5.2.1 in /usr/local/lib/python3.11/dist-packages (from weasel<0.5.0,>=0.1.0->spacy) (7.1.0)\n",
            "Requirement already satisfied: marisa-trie>=1.1.0 in /usr/local/lib/python3.11/dist-packages (from language-data>=1.2->langcodes<4.0.0,>=3.2.0->spacy) (1.2.1)\n",
            "Requirement already satisfied: markdown-it-py>=2.2.0 in /usr/local/lib/python3.11/dist-packages (from rich>=10.11.0->typer<1.0.0,>=0.3.0->spacy) (3.0.0)\n",
            "Requirement already satisfied: pygments<3.0.0,>=2.13.0 in /usr/local/lib/python3.11/dist-packages (from rich>=10.11.0->typer<1.0.0,>=0.3.0->spacy) (2.18.0)\n",
            "Requirement already satisfied: wrapt in /usr/local/lib/python3.11/dist-packages (from smart-open<8.0.0,>=5.2.1->weasel<0.5.0,>=0.1.0->spacy) (1.17.2)\n",
            "Requirement already satisfied: mdurl~=0.1 in /usr/local/lib/python3.11/dist-packages (from markdown-it-py>=2.2.0->rich>=10.11.0->typer<1.0.0,>=0.3.0->spacy) (0.1.2)\n",
            "Collecting en-core-web-sm==3.8.0\n",
            "  Downloading https://github.com/explosion/spacy-models/releases/download/en_core_web_sm-3.8.0/en_core_web_sm-3.8.0-py3-none-any.whl (12.8 MB)\n",
            "\u001b[2K     \u001b[90m━━━━━━━━━━━━━━━━━━━━━━━━━━━━━━━━━━━━━━━\u001b[0m \u001b[32m12.8/12.8 MB\u001b[0m \u001b[31m101.7 MB/s\u001b[0m eta \u001b[36m0:00:00\u001b[0m\n",
            "\u001b[?25h\u001b[38;5;2m✔ Download and installation successful\u001b[0m\n",
            "You can now load the package via spacy.load('en_core_web_sm')\n",
            "\u001b[38;5;3m⚠ Restart to reload dependencies\u001b[0m\n",
            "If you are in a Jupyter or Colab notebook, you may need to restart Python in\n",
            "order to load all the package's dependencies. You can do this by selecting the\n",
            "'Restart kernel' or 'Restart runtime' option.\n"
          ]
        }
      ]
    },
    {
      "cell_type": "code",
      "source": [
        "!pkill -f ngrok\n",
        "!pkill -f flask\n"
      ],
      "metadata": {
        "id": "9gBLs_uhs4s7"
      },
      "execution_count": 39,
      "outputs": []
    },
    {
      "cell_type": "code",
      "source": [
        "!pkill -f ngrok\n"
      ],
      "metadata": {
        "id": "g9CqZtUZakKf"
      },
      "execution_count": 40,
      "outputs": []
    },
    {
      "cell_type": "code",
      "execution_count": 42,
      "metadata": {
        "colab": {
          "base_uri": "https://localhost:8080/"
        },
        "id": "B3Wt5XXvSsZy",
        "outputId": "5e532872-bdc0-48dd-c286-4408f95ce2cc"
      },
      "outputs": [
        {
          "output_type": "stream",
          "name": "stdout",
          "text": [
            "🚀 Public URL: NgrokTunnel: \"https://8f97-34-67-92-67.ngrok-free.app\" -> \"http://localhost:5000\"\n",
            " * Serving Flask app '__main__'\n",
            " * Debug mode: off\n"
          ]
        }
      ],
      "source": [
        "from flask import Flask, request, jsonify\n",
        "import re\n",
        "import spacy\n",
        "import threading\n",
        "from pyngrok import ngrok\n",
        "\n",
        "nlp = spacy.load(\"en_core_web_sm\")\n",
        "app = Flask(__name__)\n",
        "\n",
        "patterns = [\n",
        "    r\"(?:add|insert|store|register|create)?\\s*(\\d+)\\s*(?:units|items|boxes|pieces)?\\s*(?:of)?\\s*([a-zA-Z\\s]+?)\\s*(?:with price|at price|for price|costing)?\\s*(\\d+(?:\\.\\d{2})?)\\s*(?:Rs\\.|USD)?\\s*(?:in|at)?\\s*([a-zA-Z]+(?:Warehouse)?)\\s*(?:located in|in|at)?\\s*([\\w\\s]+)\",\n",
        "    r\"(?:add|insert|store)?\\s*(\\d+)\\s*(?:units|items)?\\s*(?:of)?\\s*([a-zA-Z\\s]+?)\\s*to\\s*([a-zA-Z]+(?:Warehouse)?)\\s*(?:in|at|located in)?\\s*([\\w\\s]+)\\s*for\\s*(\\d+(?:\\.\\d{2})?)\",\n",
        "    r\"(?:please)?\\s*(?:add|store)?\\s*(\\d+)\\s*(?:units)?\\s*([a-zA-Z\\s]+?)\\s*(?:priced at|costing)?\\s*(\\d+(?:\\.\\d{2})?)\\s*(?:Rs|USD)?\\s*(?:to|in)?\\s*([a-zA-Z]+(?:Warehouse)?)\\s*(?:located in|in)?\\s*([\\w\\s]+)\",\n",
        "    r\"put\\s*(\\d+)\\s*([a-zA-Z\\s]+?)\\s*worth\\s*(\\d+(?:\\.\\d{2})?)\\s*(?:Rs|USD)?\\s*in\\s*([a-zA-Z]+(?:Warehouse)?)\\s*in\\s*([\\w\\s]+)\",\n",
        "    r\"register\\s*(\\d+)\\s*([a-zA-Z\\s]+?)\\s*(\\d+(?:\\.\\d{2})?)\\s*(?:Rs|USD)?\\s*at\\s*([a-zA-Z]+(?:Warehouse)?)\\s*located in\\s*([\\w\\s]+)\",\n",
        "    r\"add\\s*(\\d+)\\s*([a-zA-Z\\s]+?)\\s*(?:costing|with price)?\\s*(\\d+(?:\\.\\d{2})?)\\s*at\\s*([a-zA-Z]+(?:Warehouse)?)\\s*at\\s*([\\w\\s]+)\",\n",
        "    r\"(\\d+)\\s*([a-zA-Z\\s]+?)\\s*with price\\s*(\\d+(?:\\.\\d{2})?)\\s*(?:Rs|USD)?\\s*stored in\\s*([a-zA-Z]+(?:Warehouse)?)\\s*at\\s*([\\w\\s]+)\",\n",
        "    r\"add\\s*([a-zA-Z\\s]+?)\\s*quantity\\s*(\\d+)\\s*price\\s*(\\d+(?:\\.\\d{2})?)\\s*warehouse\\s*([a-zA-Z]+(?:Warehouse)?)\\s*location\\s*([\\w\\s]+)\",\n",
        "    r\"store\\s*(\\d+)\\s*([a-zA-Z\\s]+?)\\s*in\\s*([a-zA-Z]+(?:Warehouse)?)\\s*located\\s*in\\s*([\\w\\s]+)\\s*at\\s*(\\d+(?:\\.\\d{2})?)\",\n",
        "    r\"insert\\s*(\\d+)\\s*units of\\s*([a-zA-Z\\s]+?)\\s*worth\\s*(\\d+(?:\\.\\d{2})?)\\s*into\\s*([a-zA-Z]+(?:Warehouse)?)\\s*in\\s*([\\w\\s]+)\",\n",
        "    r\"(?:add)?\\s*([a-zA-Z\\s]+?)\\s*(\\d+)\\s*pcs\\s*cost\\s*(\\d+(?:\\.\\d{2})?)\\s*in\\s*([a-zA-Z]+(?:Warehouse)?)\\s*([\\w\\s]+)\",\n",
        "    r\"add\\s*(\\d+)\\s*([a-zA-Z\\s]+?)\\s*price\\s*(\\d+(?:\\.\\d{2})?)\\s*warehouse\\s*([a-zA-Z]+)\\s*in\\s*([\\w\\s]+)\",\n",
        "    r\"store\\s*(\\d+)\\s*([a-zA-Z\\s]+?)\\s*Rs\\.\\s*(\\d+(?:\\.\\d{2})?)\\s*in\\s*([a-zA-Z]+)\\s*located at\\s*([\\w\\s]+)\",\n",
        "    r\"add\\s*(\\d+)\\s*(?:bottles|boxes)?\\s*of\\s*([a-zA-Z\\s]+?)\\s*cost\\s*(\\d+(?:\\.\\d{2})?)\\s*warehouse\\s*([a-zA-Z]+)\\s*location\\s*([\\w\\s]+)\",\n",
        "    r\"register\\s*([a-zA-Z\\s]+?)\\s*(\\d+)\\s*units\\s*price\\s*(\\d+(?:\\.\\d{2})?)\\s*in\\s*([a-zA-Z]+)\\s*in\\s*([\\w\\s]+)\",\n",
        "    r\"put\\s*(\\d+)\\s*([a-zA-Z\\s]+?)\\s*for\\s*(\\d+(?:\\.\\d{2})?)\\s*in\\s*warehouse\\s*([a-zA-Z]+)\\s*([\\w\\s]+)\",\n",
        "    r\"save\\s*(\\d+)\\s*([a-zA-Z\\s]+?)\\s*price\\s*(\\d+(?:\\.\\d{2})?)\\s*in warehouse\\s*([a-zA-Z]+)\\s*at\\s*([\\w\\s]+)\",\n",
        "    r\"create record for\\s*(\\d+)\\s*([a-zA-Z\\s]+?)\\s*cost\\s*(\\d+(?:\\.\\d{2})?)\\s*warehouse name\\s*([a-zA-Z]+)\\s*location\\s*([\\w\\s]+)\",\n",
        "    r\"(?:add|insert)?\\s*(\\d+)\\s*of\\s*([a-zA-Z\\s]+?)\\s*in\\s*([a-zA-Z]+)\\s*at\\s*([\\w\\s]+)\\s*price\\s*(\\d+(?:\\.\\d{2})?)\",\n",
        "    r\"add\\s*item\\s*([a-zA-Z\\s]+?)\\s*qty\\s*(\\d+)\\s*in\\s*([a-zA-Z]+)\\s*([\\w\\s]+)\\s*cost\\s*(\\d+(?:\\.\\d{2})?)\"\n",
        "    # Add more patterns as needed for edge cases\n",
        "]\n",
        "\n",
        "def extract_all_entities(text):\n",
        "    doc = nlp(text)\n",
        "    product = None\n",
        "    price = None\n",
        "    warehouse_name = None\n",
        "    warehouse_location = None\n",
        "    quantity = None\n",
        "\n",
        "    for pattern in patterns:\n",
        "        match = re.search(pattern, text, re.IGNORECASE)\n",
        "        if match:\n",
        "            groups = match.groups()\n",
        "            nums = [g for g in groups if g and g.strip().isdigit()]\n",
        "            words = [g.strip() for g in groups if g and not g.strip().isdigit() and not g.strip().replace('.', '', 1).isdigit()]\n",
        "\n",
        "            quantity = int(nums[0]) if nums else None\n",
        "            price = nums[1] if len(nums) > 1 else None\n",
        "            product = words[0] if words else None\n",
        "            warehouse_name = words[1] if len(words) > 1 else None\n",
        "            warehouse_location = words[2] if len(words) > 2 else None\n",
        "            break\n",
        "\n",
        "    for ent in doc.ents:\n",
        "        if ent.label_ == \"MONEY\" and not price:\n",
        "            price = re.sub(r\"[^\\d.]\", \"\", ent.text)\n",
        "        elif ent.label_ == \"ORG\" and not warehouse_name:\n",
        "            warehouse_name = ent.text\n",
        "        elif ent.label_ == \"GPE\" and not warehouse_location:\n",
        "            warehouse_location = ent.text\n",
        "\n",
        "    return {\n",
        "        \"product\": product or \"Unknown Product\",\n",
        "        \"price\": price or \"Unknown Price\",\n",
        "        \"warehouse_name\": warehouse_name or \"Unknown Warehouse\",\n",
        "        \"warehouse_location\": warehouse_location or \"Unknown Location\",\n",
        "        \"quantity\": quantity or 1\n",
        "    }\n",
        "\n",
        "@app.route('/parse-product', methods=['POST'])\n",
        "def parse_product():\n",
        "    data = request.get_json()\n",
        "    text = data.get(\"text\", \"\")\n",
        "    if not text:\n",
        "        return jsonify({\"error\": \"No text provided.\"}), 400\n",
        "\n",
        "    entities = extract_all_entities(text)\n",
        "\n",
        "    return jsonify(entities)\n",
        "\n",
        "@app.route('/add-product', methods=['POST'])\n",
        "def add_product():\n",
        "    data = request.get_json()\n",
        "    required = [\"product_name\", \"price\", \"warehouse_name\", \"quantity\"]\n",
        "    if not all(k in data and data[k] for k in required):\n",
        "        return jsonify({\"error\": \"Missing required fields.\"}), 400\n",
        "\n",
        "    return jsonify({\n",
        "        \"message\": \"Product added successfully.\",\n",
        "        \"product_name\": data[\"product_name\"],\n",
        "        \"price\": data[\"price\"],\n",
        "        \"warehouse_name\": data[\"warehouse_name\"],\n",
        "        \"quantity\": data[\"quantity\"]\n",
        "    })\n",
        "\n",
        "def run_app():\n",
        "    app.run(host=\"0.0.0.0\", port=5000)\n",
        "\n",
        "public_url = ngrok.connect(5000)\n",
        "print(f\"🚀 Public URL: {public_url}\")\n",
        "threading.Thread(target=run_app).start()\n"
      ]
    },
    {
      "cell_type": "code",
      "source": [],
      "metadata": {
        "id": "scUvWj7pn4gt"
      },
      "execution_count": 13,
      "outputs": []
    }
  ],
  "metadata": {
    "colab": {
      "provenance": [],
      "authorship_tag": "ABX9TyNQa2+Gmf1V6T7Qd7GGvK7G",
      "include_colab_link": true
    },
    "kernelspec": {
      "display_name": "Python 3",
      "name": "python3"
    },
    "language_info": {
      "name": "python"
    }
  },
  "nbformat": 4,
  "nbformat_minor": 0
}